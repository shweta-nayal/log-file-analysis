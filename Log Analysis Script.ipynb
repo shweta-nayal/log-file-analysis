{
 "cells": [
  {
   "cell_type": "markdown",
   "id": "c4058a5c",
   "metadata": {},
   "source": [
    "## Name : Shweta Nayal\n",
    "## Python Assignment : Log Analysis Script"
   ]
  },
  {
   "cell_type": "markdown",
   "id": "c8fbd82b",
   "metadata": {},
   "source": [
    "### Importing Necessary Files"
   ]
  },
  {
   "cell_type": "code",
   "execution_count": 24,
   "id": "bccf0a14",
   "metadata": {},
   "outputs": [],
   "source": [
    "import re\n",
    "import csv\n",
    "import matplotlib.pyplot as plt\n",
    "import seaborn as sns\n",
    "from collections import defaultdict"
   ]
  },
  {
   "cell_type": "markdown",
   "id": "52bf2fb8",
   "metadata": {},
   "source": [
    "### Loading the Sample Log File"
   ]
  },
  {
   "cell_type": "code",
   "execution_count": 25,
   "id": "689400ed",
   "metadata": {},
   "outputs": [],
   "source": [
    "LOG_FILE_PATH = 'sample.log'  # Path to the log file\n",
    "FAILED_LOGIN_THRESHOLD = 10  # Define the threshold for suspicious failed logins\n",
    "OUTPUT_FILE = 'suspicious_activity_results.csv'  # Output CSV file"
   ]
  },
  {
   "cell_type": "markdown",
   "id": "d55ff63d",
   "metadata": {},
   "source": [
    "### Data structures to store information"
   ]
  },
  {
   "cell_type": "code",
   "execution_count": 26,
   "id": "35cb3338",
   "metadata": {},
   "outputs": [],
   "source": [
    "ip_requests = defaultdict(int)\n",
    "failed_logins = defaultdict(int)\n",
    "endpoint_requests = defaultdict(int)"
   ]
  },
  {
   "cell_type": "markdown",
   "id": "1b821b5f",
   "metadata": {},
   "source": [
    "### Data Cleaning"
   ]
  },
  {
   "cell_type": "code",
   "execution_count": 27,
   "id": "01be18e6",
   "metadata": {},
   "outputs": [],
   "source": [
    "def clean_log_line(line):\n",
    "    # Removing unnecessary whitespace, carriage returns, and any empty lines\n",
    "    line = line.strip()\n",
    "    if not line:\n",
    "        return None\n",
    "    return line"
   ]
  },
  {
   "cell_type": "markdown",
   "id": "1e1f8d72",
   "metadata": {},
   "source": [
    "### Parsing the log file and collectting data"
   ]
  },
  {
   "cell_type": "code",
   "execution_count": 28,
   "id": "c47e136b",
   "metadata": {},
   "outputs": [],
   "source": [
    "with open(LOG_FILE_PATH, 'r') as log_file:\n",
    "    for line in log_file:\n",
    "        line = clean_log_line(line)\n",
    "        if line is None:\n",
    "            continue\n",
    "\n",
    "        # Extract the IP address\n",
    "        ip_match = re.match(r'^(\\d+\\.\\d+\\.\\d+\\.\\d+)', line)\n",
    "        if ip_match:\n",
    "            ip = ip_match.group(1)\n",
    "            \n",
    "            # Track requests by IP\n",
    "            ip_requests[ip] += 1\n",
    "            \n",
    "            # Check for failed login attempts (401 or \"Invalid credentials\")\n",
    "            if '401' in line or 'Invalid credentials' in line:\n",
    "                failed_logins[ip] += 1\n",
    "        \n",
    "        # Track the most accessed endpoints (assuming endpoint is the 2nd part in URL)\n",
    "        endpoint_match = re.search(r'GET /([^\\s]+)', line)\n",
    "        if endpoint_match:\n",
    "            endpoint = endpoint_match.group(1)\n",
    "            endpoint_requests[endpoint] += 1"
   ]
  },
  {
   "cell_type": "markdown",
   "id": "f32ad0ff",
   "metadata": {},
   "source": [
    "### Identifying the supicious IP's"
   ]
  },
  {
   "cell_type": "code",
   "execution_count": 31,
   "id": "7fe3e9d1",
   "metadata": {},
   "outputs": [],
   "source": [
    "suspicious_ips = {ip: count for ip, count in failed_logins.items() if count > FAILED_LOGIN_THRESHOLD}"
   ]
  },
  {
   "cell_type": "markdown",
   "id": "22639054",
   "metadata": {},
   "source": [
    "### Finding Most Accessed Points"
   ]
  },
  {
   "cell_type": "code",
   "execution_count": 32,
   "id": "2662291b",
   "metadata": {},
   "outputs": [],
   "source": [
    "most_accessed_endpoint = max(endpoint_requests, key=endpoint_requests.get, default=\"No requests found\")"
   ]
  },
  {
   "cell_type": "markdown",
   "id": "5438a30d",
   "metadata": {},
   "source": [
    "### Checking For Suspicious Activity"
   ]
  },
  {
   "cell_type": "code",
   "execution_count": 34,
   "id": "f22ef7ca",
   "metadata": {},
   "outputs": [
    {
     "name": "stdout",
     "output_type": "stream",
     "text": [
      "\n",
      "No suspicious activity detected.\n"
     ]
    }
   ],
   "source": [
    "if suspicious_ips:\n",
    "    print(\"\\nSuspicious Activity Detected:\")\n",
    "    print(f\"{'IP Address':<20} {'Failed Login Attempts':<20}\")\n",
    "    for ip, count in suspicious_ips.items():\n",
    "        print(f\"{ip:<20} {count:<20}\")\n",
    "else:\n",
    "    print(\"\\nNo suspicious activity detected.\")"
   ]
  },
  {
   "cell_type": "markdown",
   "id": "8e54f3cf",
   "metadata": {},
   "source": [
    "### Visualizations"
   ]
  },
  {
   "cell_type": "markdown",
   "id": "e7f641f3",
   "metadata": {},
   "source": [
    "#### Plotting IP request counts"
   ]
  },
  {
   "cell_type": "code",
   "execution_count": 39,
   "id": "6dab0a39",
   "metadata": {},
   "outputs": [
    {
     "data": {
      "image/png": "[encoded data removed]",
      "text/plain": [
       "<Figure size 720x432 with 1 Axes>"
      ]
     },
     "metadata": {
      "needs_background": "light"
     },
     "output_type": "display_data"
    }
   ],
   "source": [
    "plt.figure(figsize=(10, 6))\n",
    "sns.barplot(x=list(ip_requests.keys()), y=list(ip_requests.values()), color='skyblue')  \n",
    "plt.title(\"IP Request Counts\")\n",
    "plt.xlabel(\"IP Address\")\n",
    "plt.ylabel(\"Request Count\")\n",
    "plt.xticks(rotation=90)\n",
    "plt.tight_layout()\n",
    "plt.show()"
   ]
  },
  {
   "cell_type": "markdown",
   "id": "357a524f",
   "metadata": {},
   "source": [
    "#### Plotting failed login attempts for suspicious IPs"
   ]
  },
  {
   "cell_type": "code",
   "execution_count": 40,
   "id": "d2459f77",
   "metadata": {},
   "outputs": [
    {
     "name": "stdout",
     "output_type": "stream",
     "text": [
      "No suspicious activity detected to plot.\n"
     ]
    }
   ],
   "source": [
    "if suspicious_ips:\n",
    "    plt.figure(figsize=(10, 6))\n",
    "    sns.barplot(x=list(suspicious_ips.keys()), y=list(suspicious_ips.values()), color='red') \n",
    "    plt.title(\"Suspicious IPs Based on Failed Login Attempts\")\n",
    "    plt.xlabel(\"IP Address\")\n",
    "    plt.ylabel(\"Failed Login Attempts\")\n",
    "    plt.xticks(rotation=90)\n",
    "    plt.tight_layout()\n",
    "    plt.show()\n",
    "else:\n",
    "    print(\"No suspicious activity detected to plot.\")"
   ]
  },
  {
   "cell_type": "markdown",
   "id": "2c253705",
   "metadata": {},
   "source": [
    "#### Plotting most accessed endpoint counts"
   ]
  },
  {
   "cell_type": "code",
   "execution_count": 41,
   "id": "b8a8e1e3",
   "metadata": {},
   "outputs": [
    {
     "data": {
      "image/png": "[encoded data removed]",
      "text/plain": [
       "<Figure size 720x432 with 1 Axes>"
      ]
     },
     "metadata": {
      "needs_background": "light"
     },
     "output_type": "display_data"
    }
   ],
   "source": [
    "if endpoint_requests:\n",
    "    plt.figure(figsize=(10, 6))\n",
    "    sns.barplot(x=list(endpoint_requests.keys()), y=list(endpoint_requests.values()), color='teal') \n",
    "    plt.title(\"Most Accessed Endpoints\")\n",
    "    plt.xlabel(\"Endpoint\")\n",
    "    plt.ylabel(\"Request Count\")\n",
    "    plt.xticks(rotation=90)\n",
    "    plt.tight_layout()\n",
    "    plt.show()"
   ]
  },
  {
   "cell_type": "markdown",
   "id": "4c906b0e",
   "metadata": {},
   "source": [
    "### Saving Result to CSV file"
   ]
  },
  {
   "cell_type": "code",
   "execution_count": 38,
   "id": "eb933b73",
   "metadata": {},
   "outputs": [
    {
     "name": "stdout",
     "output_type": "stream",
     "text": [
      "\n",
      "Results saved to suspicious_activity_results.csv\n"
     ]
    }
   ],
   "source": [
    "with open(OUTPUT_FILE, 'w', newline='') as csv_file:\n",
    "    writer = csv.writer(csv_file)\n",
    "    writer.writerow(['IP Address', 'Failed Login Attempts'])\n",
    "    for ip, count in suspicious_ips.items():\n",
    "        writer.writerow([ip, count])\n",
    "\n",
    "print(f\"\\nResults saved to {OUTPUT_FILE}\")"
   ]
  },
  {
   "cell_type": "code",
   "execution_count": null,
   "id": "f6d054b2",
   "metadata": {},
   "outputs": [],
   "source": []
  },
  {
   "cell_type": "markdown",
   "id": "060f4ca1",
   "metadata": {},
   "source": [
    "### Conclusion \n",
    "\n",
    "> In this project, I have developed a script using the 'sample.log' file provided in the assessment. The script processes the server logs to analyze IP access patterns, identify the most frequently accessed URLs, and detect suspicious activities such as multiple failed login attempts. I also visualized the results using charts to make the analysis clearer. This approach helps in efficiently monitoring web traffic and identifying potential security risks."
   ]
  }
 ],
 "metadata": {
  "kernelspec": {
   "display_name": "Python 3 (ipykernel)",
   "language": "python",
   "name": "python3"
  },
  "language_info": {
   "codemirror_mode": {
    "name": "ipython",
    "version": 3
   },
   "file_extension": ".py",
   "mimetype": "text/x-python",
   "name": "python",
   "nbconvert_exporter": "python",
   "pygments_lexer": "ipython3",
   "version": "3.9.12"
  }
 },
 "nbformat": 4,
 "nbformat_minor": 5
}
